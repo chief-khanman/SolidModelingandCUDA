{
  "nbformat": 4,
  "nbformat_minor": 0,
  "metadata": {
    "colab": {
      "provenance": [],
      "collapsed_sections": []
    },
    "kernelspec": {
      "name": "python3",
      "display_name": "Python 3"
    }
  },
  "cells": [
    {
      "cell_type": "markdown",
      "metadata": {
        "id": "1-8pC-TShbGK"
      },
      "source": [
        "#HomeWork 1\n",
        "\n",
        "This homework must be done individually and submitted online on Canvas. Please submit your final submission files. The submission must be the  *.ipynb* extension file, and outputs (*if any*) in a zip folder.  \n",
        "\n",
        "\n",
        "## Introduction\n",
        "This homework deals with solid modeling concepts of sweeps and BRep file formats. The use of the trimesh package is preferred, since it is easy to implement the different BRep concepts."
      ]
    },
    {
      "cell_type": "code",
      "metadata": {
        "id": "NhATEWGHkQ6l"
      },
      "source": [
        "# Setup and few imports\n",
        "import os, sys"
      ],
      "execution_count": null,
      "outputs": []
    },
    {
      "cell_type": "code",
      "metadata": {
        "id": "REe_7W7QlBKi"
      },
      "source": [
        "import numpy as np\n",
        "import trimesh"
      ],
      "execution_count": null,
      "outputs": []
    },
    {
      "cell_type": "markdown",
      "metadata": {
        "id": "kOh5RAMPiPqW"
      },
      "source": [
        "## Translational Sweeps (total 40 points)\n",
        "This problem is divided into four parts. The [Trimesh Demo](https://colab.research.google.com/drive/190sa3RhbzJ70SIRupHwt1KHrv6WGCr6b?usp=sharing) can be used to refer to the usage of Trimesh in the homework. You can also use the [Git Repo](https://github.com/mikedh/trimesh) and the [documentation](https://trimsh.org/index.html) in case you need any further help. In this task, we will perform translational sweep of a polygon which we take as input (using a point file, attached in canvas). For the sake of this homework, we will assume that the polygon is convex.\n"
      ]
    },
    {
      "cell_type": "code",
      "metadata": {
        "id": "vAFj5ac3lZn9"
      },
      "source": [
        "# Read the list of vertices\n",
        "def ReadPoly(filename):\n",
        "    # Reads the polygon text file\n",
        "    verts = []\n",
        "    with open(filename,'r') as f:\n",
        "        NumPoints = int((f.readline()).strip())\n",
        "        for i in range(NumPoints):\n",
        "            verts.append(np.array((f.readline()).strip().split()).astype('float32'))\n",
        "    return np.array(verts)\n",
        "\n",
        "# Filename will be dependent on your location in the google drive...\n",
        "verts = ReadPoly('InputPoly.txt')"
      ],
      "execution_count": null,
      "outputs": []
    },
    {
      "cell_type": "markdown",
      "metadata": {
        "id": "wxIXTZBUjXCq"
      },
      "source": [
        "### Task 1 (10 points)\n",
        "Create a triangular tessellation of a polygon. The function takes in the set of vertices and tessellates based on what we covered in the class. You can assume that the polygon is convex.\n"
      ]
    },
    {
      "cell_type": "code",
      "metadata": {
        "id": "tXQ-oheEk9Ba"
      },
      "source": [
        "#TODO: Task1 Implement Convex Tesselation\n",
        "def ConvexTesselation(verts):\n",
        "    # Template provided\n",
        "    faces = [[0, 1, 2], [1, 2, 3], [2, 3, 4], [3, 4, 0]]\n",
        "    return np.array(faces)"
      ],
      "execution_count": null,
      "outputs": []
    },
    {
      "cell_type": "code",
      "metadata": {
        "id": "AyRVGAsSlJBV"
      },
      "source": [
        "# Convex Tesselation code running\n",
        "faces = ConvexTesselation(verts)"
      ],
      "execution_count": null,
      "outputs": []
    },
    {
      "cell_type": "markdown",
      "metadata": {
        "id": "UDnGzk7wmQmu"
      },
      "source": [
        "### Task 2 (20 points)\n",
        "With an additional input of length of the sweep, write a code that creates all the triangles that form the solid model swept by the polygonal outline (obtained earlier) for a specified distance."
      ]
    },
    {
      "cell_type": "code",
      "metadata": {
        "id": "YIdwhIBJmfgJ"
      },
      "source": [
        "# Perform Linear Sweep Operation\n",
        "def Sweep(verts, faces, length):\n",
        "    #TODO: Task2 Implement the sweep operation\n",
        "    return verts, faces"
      ],
      "execution_count": null,
      "outputs": []
    },
    {
      "cell_type": "code",
      "metadata": {
        "id": "sruXPjpwmgs9"
      },
      "source": [
        "# Generate Sweep operation\n",
        "length = 10\n",
        "verts, faces = Sweep(verts, faces, length)"
      ],
      "execution_count": null,
      "outputs": []
    },
    {
      "cell_type": "markdown",
      "metadata": {
        "id": "sPvkNG4KmlxI"
      },
      "source": [
        "### Task 3 (5 points)\n",
        "Visualize the solid model created (in code). Compute the Euler number for the solid, and check if the model is watertight or not."
      ]
    },
    {
      "cell_type": "code",
      "metadata": {
        "id": "k2TDVX3Gm08p"
      },
      "source": [
        "# Load the list of vertices and faces in a Trimesh object\n",
        "mesh = trimesh.Trimesh(vertices=verts, faces=faces)\n",
        "\n",
        "mesh.show(viewer='notebook')\n",
        "\n",
        "# Need to compute Euler number and check if the model is watertight"
      ],
      "execution_count": null,
      "outputs": []
    },
    {
      "cell_type": "markdown",
      "metadata": {
        "id": "pZWuT-tcnEZw"
      },
      "source": [
        "### Task 4 (5 points)\n",
        "Is the model rendered correctly? If not how would you fix it? Try using the repair functions of trimesh to repair the solid."
      ]
    },
    {
      "cell_type": "code",
      "metadata": {
        "id": "TAgHRHPPnO02"
      },
      "source": [],
      "execution_count": null,
      "outputs": []
    },
    {
      "cell_type": "markdown",
      "metadata": {
        "id": "gjKp3ZmRnQNS"
      },
      "source": [
        "### (Extra Credit) Task 5 (20 points)\n",
        "If the original input polygon is not convex, please write a code to triangulate it and perform the sweep operation.\n",
        "\n"
      ]
    },
    {
      "cell_type": "code",
      "metadata": {
        "id": "3vaQaqoBndAC"
      },
      "source": [],
      "execution_count": null,
      "outputs": []
    },
    {
      "cell_type": "markdown",
      "metadata": {
        "id": "vRcpjkNMnbU9"
      },
      "source": [
        "## General Sweeps (10 points)\n",
        "\n",
        "What would be the steps to create a general sweep with curved path? Please just specify the steps. You do not need to code this. "
      ]
    },
    {
      "cell_type": "markdown",
      "metadata": {
        "id": "deuWMzdrngyk"
      },
      "source": [
        "You can type your answer here..."
      ]
    },
    {
      "cell_type": "markdown",
      "metadata": {
        "id": "Wyq_GS97nmR_"
      },
      "source": [
        "## Python OCC (10 points)\n",
        "For the attached two step files, compute the total number of solids in the step file and save it in *.iges* format."
      ]
    },
    {
      "cell_type": "code",
      "metadata": {
        "id": "EH0KVD5rn6e7"
      },
      "source": [
        "from OCC.Extend.DataExchange import read_step_file, export_shape_to_svg\n",
        "# more imports needed here"
      ],
      "execution_count": null,
      "outputs": []
    },
    {
      "cell_type": "code",
      "metadata": {
        "id": "ocDCVXu7o_cl"
      },
      "source": [
        "shp = read_step_file(os.path.join('notebooks', 'OCCDemo', '00000000_290a9120f9f249a7a05cfe9c_step_000.step'))"
      ],
      "execution_count": null,
      "outputs": []
    }
  ]
}